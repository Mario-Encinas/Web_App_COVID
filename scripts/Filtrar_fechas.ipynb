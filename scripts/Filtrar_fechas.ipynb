{
 "cells": [
  {
   "cell_type": "code",
   "execution_count": 1,
   "metadata": {},
   "outputs": [],
   "source": [
    "import pandas as pd\n",
    "import numpy as np\n",
    "from csv import reader\n",
    "import csv\n",
    "import time"
   ]
  },
  {
   "cell_type": "code",
   "execution_count": 2,
   "metadata": {},
   "outputs": [
    {
     "name": "stdout",
     "output_type": "stream",
     "text": [
      "6937484\n"
     ]
    }
   ],
   "source": [
    "lengt = 0\n",
    "with open('210522COVID19MEXICO.csv', 'r') as read_obj:\n",
    "    csv_reader = reader(read_obj)\n",
    "    for row in csv_reader:\n",
    "        lengt += 1\n",
    "print(lengt)"
   ]
  },
  {
   "cell_type": "code",
   "execution_count": 9,
   "metadata": {},
   "outputs": [],
   "source": [
    "Informacion_paciente = pd.DataFrame()\n",
    "Antecedentes_paciente = pd.DataFrame()\n",
    "Datos_medicos = pd.DataFrame()"
   ]
  },
  {
   "cell_type": "code",
   "execution_count": 10,
   "metadata": {},
   "outputs": [],
   "source": [
    "startT = time.time()\n",
    "for i in range(1, (lengt+1), 100000):\n",
    "\n",
    "        df = pd.read_csv(\"210522COVID19MEXICO.csv\", skiprows = i, nrows=(100000), header=None)\n",
    "        columnas = df.columns\n",
    "\n",
    "        df[columnas[12]] = df[columnas[12]].replace(['9999-99-99'], np.nan)\n",
    "\n",
    "        df[columnas[10]] = pd.to_datetime(df[columnas[10]])\n",
    "        df[columnas[11]] = pd.to_datetime(df[columnas[11]])\n",
    "        df[columnas[12]] = pd.to_datetime(df[columnas[12]])\n",
    "\n",
    "        df = df.loc[df[columnas[11]] >= '2021-1-10']\n",
    "\n",
    "        columnas_paciente = [1,7,8,9,10,11,12,13,30,39]\n",
    "        columnas_antecedentes = [1,14,17,20,21,22,23,24,25,26,27,28,29]\n",
    "        columnas_datos_medicos = [1,2,3,4,31,32,33,34,35]\n",
    "\n",
    "        Informacion_paciente = Informacion_paciente.append(df[columnas[columnas_paciente]], ignore_index=True)\n",
    "        Antecedentes_paciente = Antecedentes_paciente.append(df[columnas[columnas_antecedentes]], ignore_index=True)\n",
    "        Datos_medicos = Datos_medicos.append(df[columnas[columnas_datos_medicos]], ignore_index=True)\n",
    "        \n",
    "endT = time.time() "
   ]
  },
  {
   "cell_type": "code",
   "execution_count": 11,
   "metadata": {},
   "outputs": [
    {
     "data": {
      "text/plain": [
       "268.4088749885559"
      ]
     },
     "execution_count": 11,
     "metadata": {},
     "output_type": "execute_result"
    }
   ],
   "source": [
    "endT-startT"
   ]
  },
  {
   "cell_type": "code",
   "execution_count": 8,
   "metadata": {},
   "outputs": [
    {
     "name": "stdout",
     "output_type": "stream",
     "text": [
      "2746110\n",
      "{Timestamp('2021-02-25 00:00:00'), Timestamp('2021-01-16 00:00:00'), Timestamp('2021-03-10 00:00:00'), Timestamp('2021-01-28 00:00:00'), Timestamp('2021-04-25 00:00:00'), Timestamp('2021-01-25 00:00:00'), Timestamp('2021-01-15 00:00:00'), Timestamp('2021-03-24 00:00:00'), Timestamp('2021-04-19 00:00:00'), Timestamp('2021-01-10 00:00:00'), Timestamp('2021-03-21 00:00:00'), Timestamp('2021-04-11 00:00:00'), Timestamp('2021-01-11 00:00:00'), Timestamp('2021-02-28 00:00:00'), Timestamp('2021-01-31 00:00:00'), Timestamp('2021-01-30 00:00:00'), Timestamp('2021-02-27 00:00:00'), Timestamp('2021-01-21 00:00:00'), Timestamp('2021-05-07 00:00:00'), Timestamp('2021-03-11 00:00:00'), Timestamp('2021-03-29 00:00:00'), Timestamp('2021-04-21 00:00:00'), Timestamp('2021-05-04 00:00:00'), Timestamp('2021-02-05 00:00:00'), Timestamp('2021-03-27 00:00:00'), Timestamp('2021-04-22 00:00:00'), Timestamp('2021-04-13 00:00:00'), Timestamp('2021-02-17 00:00:00'), Timestamp('2021-02-10 00:00:00'), Timestamp('2021-01-13 00:00:00'), Timestamp('2021-03-12 00:00:00'), Timestamp('2021-05-09 00:00:00'), Timestamp('2021-02-18 00:00:00'), Timestamp('2021-01-14 00:00:00'), Timestamp('2021-02-15 00:00:00'), Timestamp('2021-02-22 00:00:00'), Timestamp('2021-03-06 00:00:00'), Timestamp('2021-04-04 00:00:00'), Timestamp('2021-04-30 00:00:00'), Timestamp('2021-04-17 00:00:00'), Timestamp('2021-02-20 00:00:00'), Timestamp('2021-05-13 00:00:00'), Timestamp('2021-05-16 00:00:00'), Timestamp('2021-05-08 00:00:00'), Timestamp('2021-05-02 00:00:00'), Timestamp('2021-03-08 00:00:00'), Timestamp('2021-04-05 00:00:00'), Timestamp('2021-05-19 00:00:00'), Timestamp('2021-04-23 00:00:00'), Timestamp('2021-03-18 00:00:00'), Timestamp('2021-04-06 00:00:00'), Timestamp('2021-03-19 00:00:00'), Timestamp('2021-02-11 00:00:00'), Timestamp('2021-04-10 00:00:00'), Timestamp('2021-01-24 00:00:00'), Timestamp('2021-03-04 00:00:00'), Timestamp('2021-04-28 00:00:00'), Timestamp('2021-03-28 00:00:00'), Timestamp('2021-02-14 00:00:00'), Timestamp('2021-02-19 00:00:00'), Timestamp('2021-05-20 00:00:00'), Timestamp('2021-03-25 00:00:00'), Timestamp('2021-01-18 00:00:00'), Timestamp('2021-04-12 00:00:00'), Timestamp('2021-05-18 00:00:00'), Timestamp('2021-03-13 00:00:00'), Timestamp('2021-04-08 00:00:00'), Timestamp('2021-03-14 00:00:00'), Timestamp('2021-02-24 00:00:00'), Timestamp('2021-02-26 00:00:00'), Timestamp('2021-01-12 00:00:00'), Timestamp('2021-01-26 00:00:00'), Timestamp('2021-03-15 00:00:00'), Timestamp('2021-02-04 00:00:00'), Timestamp('2021-05-03 00:00:00'), Timestamp('2021-05-10 00:00:00'), Timestamp('2021-03-20 00:00:00'), Timestamp('2021-04-01 00:00:00'), Timestamp('2021-01-17 00:00:00'), Timestamp('2021-03-30 00:00:00'), Timestamp('2021-02-06 00:00:00'), Timestamp('2021-04-24 00:00:00'), Timestamp('2021-05-11 00:00:00'), Timestamp('2021-02-03 00:00:00'), Timestamp('2021-01-27 00:00:00'), Timestamp('2021-05-05 00:00:00'), Timestamp('2021-02-16 00:00:00'), Timestamp('2021-05-12 00:00:00'), Timestamp('2021-02-08 00:00:00'), Timestamp('2021-01-22 00:00:00'), Timestamp('2021-01-19 00:00:00'), Timestamp('2021-04-26 00:00:00'), Timestamp('2021-03-03 00:00:00'), Timestamp('2021-04-09 00:00:00'), Timestamp('2021-02-13 00:00:00'), Timestamp('2021-01-20 00:00:00'), Timestamp('2021-03-09 00:00:00'), Timestamp('2021-03-31 00:00:00'), Timestamp('2021-02-09 00:00:00'), Timestamp('2021-04-02 00:00:00'), Timestamp('2021-05-22 00:00:00'), Timestamp('2021-03-26 00:00:00'), Timestamp('2021-04-20 00:00:00'), Timestamp('2021-02-01 00:00:00'), Timestamp('2021-03-17 00:00:00'), Timestamp('2021-02-21 00:00:00'), Timestamp('2021-05-17 00:00:00'), Timestamp('2021-02-12 00:00:00'), Timestamp('2021-01-23 00:00:00'), Timestamp('2021-03-05 00:00:00'), Timestamp('2021-04-14 00:00:00'), Timestamp('2021-01-29 00:00:00'), Timestamp('2021-02-07 00:00:00'), Timestamp('2021-04-18 00:00:00'), Timestamp('2021-03-07 00:00:00'), Timestamp('2021-05-06 00:00:00'), Timestamp('2021-03-22 00:00:00'), Timestamp('2021-04-27 00:00:00'), Timestamp('2021-03-16 00:00:00'), Timestamp('2021-05-21 00:00:00'), Timestamp('2021-02-02 00:00:00'), Timestamp('2021-04-16 00:00:00'), Timestamp('2021-03-02 00:00:00'), Timestamp('2021-04-15 00:00:00'), Timestamp('2021-03-23 00:00:00'), Timestamp('2021-04-07 00:00:00'), Timestamp('2021-05-01 00:00:00'), Timestamp('2021-03-01 00:00:00'), Timestamp('2021-05-15 00:00:00'), Timestamp('2021-04-29 00:00:00'), Timestamp('2021-05-14 00:00:00'), Timestamp('2021-04-03 00:00:00'), Timestamp('2021-02-23 00:00:00')}\n"
     ]
    }
   ],
   "source": [
    "print(len(Informacion_paciente))\n",
    "print(set(Informacion_paciente[11]))"
   ]
  }
 ],
 "metadata": {
  "kernelspec": {
   "display_name": "PatternR",
   "language": "python",
   "name": "patternr"
  },
  "language_info": {
   "codemirror_mode": {
    "name": "ipython",
    "version": 3
   },
   "file_extension": ".py",
   "mimetype": "text/x-python",
   "name": "python",
   "nbconvert_exporter": "python",
   "pygments_lexer": "ipython3",
   "version": "3.8.5"
  }
 },
 "nbformat": 4,
 "nbformat_minor": 4
}
